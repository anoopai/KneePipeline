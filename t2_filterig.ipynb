{
 "cells": [
  {
   "cell_type": "code",
   "execution_count": 5,
   "metadata": {},
   "outputs": [],
   "source": [
    "from math import log\n",
    "from pathlib import Path\n",
    "import os\n",
    "import subprocess\n",
    "import json\n",
    "import sys\n",
    "import time\n",
    "import numpy as np\n",
    "import shutil\n",
    "from pymskt.mesh import get_icp_transform, cpd_register, non_rigidly_register\n",
    "from pymskt import mesh\n",
    "from vtk.util.numpy_support import numpy_to_vtk, vtk_to_numpy\n",
    "from pymskt.mesh.meshTools import smooth_scalars_from_second_mesh_onto_base, transfer_mesh_scalars_get_weighted_average_n_closest\n",
    "from pymskt.mesh import Mesh, BoneMesh"
   ]
  },
  {
   "cell_type": "code",
   "execution_count": 14,
   "metadata": {},
   "outputs": [
    {
     "data": {
      "text/plain": [
       "'/dataNAS/people/anoopai/KneePipeline/data/7-P/VISIT-2/aclr/results_t2c_new'"
      ]
     },
     "execution_count": 14,
     "metadata": {},
     "output_type": "execute_result"
    }
   ],
   "source": [
    "import os\n",
    "\n",
    "path_save = '/dataNAS/people/anoopai/KneePipeline/data/7-P/VISIT-2/aclr/results_nsm'\n",
    "\n",
    "path_save_t2c =  os.path.join(os.path.join(os.path.dirname(path_save)), 'results_t2c_new')\n",
    "# path_save_t2c = os.path.abspath(path_save)\n",
    "\n",
    "path_save_t2c"
   ]
  },
  {
   "cell_type": "code",
   "execution_count": 12,
   "metadata": {},
   "outputs": [],
   "source": [
    "femur_path = '/dataNAS/people/anoopai/KneePipeline/data/7-P/VISIT-2/aclr/results_nsm/femur_mesh_NSM_orig_reg2mean.vtk'\n",
    "femur_path_v1 = '/dataNAS/people/anoopai/KneePipeline/data/7-P/VISIT-1/aclr/results_nsm/femur_mesh_NSM_orig_reg2mean.vtk'\n",
    "\n",
    "\n",
    "femur_mesh = BoneMesh(femur_path)\n",
    "femur_mesh_v1= BoneMesh(femur_path_v1)\n",
    "\n",
    "n_arrays = femur_mesh.GetPointData().GetNumberOfArrays()\n",
    "scalar_names = [femur_mesh.GetPointData().GetArray(array_idx).GetName() for array_idx in range(n_arrays)]\n",
    "\n",
    "diff_scalar_names = ['thickness (mm)', 'T2_mean']\n",
    "for scalar_name in scalar_names:\n",
    "    if scalar_name in diff_scalar_names:\n",
    "        femur_points= vtk_to_numpy(femur_mesh.GetPointData().GetArray(scalar_name)) \n",
    "        femur_points_v1= vtk_to_numpy(femur_mesh_v1.GetPointData().GetArray(scalar_name))\n",
    "        scalar_diff = np.zeros_like(femur_points)\n",
    "        \n",
    "        for i, _ in enumerate(femur_points):\n",
    "            # print(type(femur_points[i]), femur_points_v1[i])\n",
    "            \n",
    "            if femur_points[i] == 0.0 or femur_points[i] == 0.0:\n",
    "                scalar_diff[i] == 0.0\n",
    "            else:   \n",
    "                scalar_diff[i] = femur_points[i] - femur_points_v1[i]\n",
    "                \n",
    "            # scalar_diff= vtk_to_numpy(femur_mesh.GetPointData().GetArray(scalar_name)) - vtk_to_numpy(femur_mesh_v1.GetPointData().GetArray(scalar_name))\n",
    "        femur_mesh.point_data[f'Diff_{scalar_name}'] = scalar_diff  \n",
    "    \n",
    "femur_mesh.save_mesh(femur_path)"
   ]
  },
  {
   "cell_type": "code",
   "execution_count": null,
   "metadata": {},
   "outputs": [
    {
     "name": "stdout",
     "output_type": "stream",
     "text": [
      "[0.3125 0.3125 1.5   ]\n"
     ]
    }
   ],
   "source": [
    "filter_t2maps(t2_map_path, fwhm, t2_map_save_path)"
   ]
  }
 ],
 "metadata": {
  "kernelspec": {
   "display_name": "knee_pipeline",
   "language": "python",
   "name": "python3"
  },
  "language_info": {
   "codemirror_mode": {
    "name": "ipython",
    "version": 3
   },
   "file_extension": ".py",
   "mimetype": "text/x-python",
   "name": "python",
   "nbconvert_exporter": "python",
   "pygments_lexer": "ipython3",
   "version": "3.8.20"
  }
 },
 "nbformat": 4,
 "nbformat_minor": 2
}
