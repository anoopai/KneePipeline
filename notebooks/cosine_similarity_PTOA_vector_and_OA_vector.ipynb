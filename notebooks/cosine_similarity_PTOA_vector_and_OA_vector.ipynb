{
 "cells": [
  {
   "cell_type": "code",
   "execution_count": 1,
   "id": "df49e039",
   "metadata": {},
   "outputs": [],
   "source": [
    "import os\n",
    "import shutil\n",
    "import numpy as np\n",
    "import pandas as pd\n",
    "from sklearn.linear_model import LinearRegression\n",
    "from sklearn.metrics.pairwise import cosine_similarity\n"
   ]
  },
  {
   "cell_type": "markdown",
   "id": "cf1a8303",
   "metadata": {},
   "source": [
    "# Fitting PTOA vector to the \"mean\" knee"
   ]
  },
  {
   "cell_type": "markdown",
   "id": "dd3e69c5",
   "metadata": {},
   "source": [
    "## B-only"
   ]
  },
  {
   "cell_type": "code",
   "execution_count": null,
   "id": "309854aa",
   "metadata": {},
   "outputs": [],
   "source": [
    "knees = ['aclr', 'clat', 'ctrl']\n",
    "timepoints = np.array([0.75, 3, 9, 18, 30]) # Timepoints in months\n",
    "\n",
    "for knee in knees:\n",
    "    latent_paths = f'/dataNAS/people/anoopai/DESS_ACL_study/results/BScore_and_FC_metrics/mean_shape_recon/BO_model/shape_change_between_knees_raw_by_visit/mean_latent_{knee}.npz'\n",
    "    b_vector_path = '/dataNAS/people/anoopai/KneePipeline/BSCORE_MODELS/NSM_Orig_BScore_Bone_Only_Jan_2025/bscore_vector.npy'\n",
    "\n",
    "    latents = np.load(latent_paths)\n",
    "    bvector= np.load(b_vector_path)\n",
    "\n",
    "    latents = [\n",
    "        latents['Visit-1'],\n",
    "        latents['Visit-2'],\n",
    "        latents['Visit-3'],\n",
    "        latents['Visit-4'],\n",
    "        latents['Visit-5']\n",
    "    ]\n",
    "\n",
    "    Y = np.stack(latents).squeeze()          # (5, 512)\n",
    "    X = timepoints.reshape(-1, 1)            # (5, 1)\n",
    "\n",
    "    reg = LinearRegression()\n",
    "    reg.fit(X, Y)\n",
    "\n",
    "    ptoa_vector = reg.coef_.reshape(-1)  # Coefficients for each feature (timepoint)\n",
    "\n",
    "    similarity = cosine_similarity(bvector.reshape(1, -1), ptoa_vector.reshape(1, -1))[0, 0]\n",
    "    print('Bone-only NSM')\n",
    "    print(knee)\n",
    "    print('Cosine Similarity:', similarity)"
   ]
  },
  {
   "cell_type": "markdown",
   "id": "1a67863e",
   "metadata": {},
   "source": [
    "## B+C"
   ]
  },
  {
   "cell_type": "code",
   "execution_count": null,
   "id": "11a6c458",
   "metadata": {},
   "outputs": [],
   "source": [
    "knees = ['aclr', 'clat', 'ctrl']\n",
    "timepoints = np.array([0.75, 3, 9, 18, 30]) # Timepoints in months\n",
    "\n",
    "for knee in knees:\n",
    "    latent_paths = f'/dataNAS/people/anoopai/DESS_ACL_study/results/BScore_and_FC_metrics/mean_shape_recon/BC_model/shape_change_between_knees_raw_by_visit/mean_latent_{knee}.npz'\n",
    "    b_vector_path = '/dataNAS/people/anoopai/KneePipeline/BSCORE_MODELS/NSM_Orig_BScore_Nov_2024/bscore_vector.npy'\n",
    "\n",
    "    latents = np.load(latent_paths)\n",
    "    bvector= np.load(b_vector_path)\n",
    "\n",
    "    latents = [\n",
    "        latents['Visit-1'],\n",
    "        latents['Visit-2'],\n",
    "        latents['Visit-3'],\n",
    "        latents['Visit-4'],\n",
    "        latents['Visit-5']\n",
    "    ]\n",
    "\n",
    "    Y = np.stack(latents).squeeze()          # (5, 512)\n",
    "    X = timepoints.reshape(-1, 1)            # (5, 1)\n",
    "\n",
    "    reg = LinearRegression()\n",
    "    reg.fit(X, Y)\n",
    "\n",
    "    ptoa_vector = reg.coef_.reshape(-1)  # Coefficients for each feature (timepoint)\n",
    "\n",
    "    similarity = cosine_similarity(bvector.reshape(1, -1), ptoa_vector.reshape(1, -1))[0, 0]\n",
    "    print('Bone-and-cartilage NSM')\n",
    "    print(knee)\n",
    "    print('Cosine Similarity:', similarity)"
   ]
  },
  {
   "cell_type": "markdown",
   "id": "6496c226",
   "metadata": {},
   "source": [
    "# Fitting Line to each subject - Linear Mixed effects Model with Random effect (slope)"
   ]
  },
  {
   "cell_type": "markdown",
   "id": "bdf46b95",
   "metadata": {},
   "source": [
    "## B-only"
   ]
  },
  {
   "cell_type": "code",
   "execution_count": 5,
   "id": "d804b28f",
   "metadata": {},
   "outputs": [
    {
     "name": "stdout",
     "output_type": "stream",
     "text": [
      "KneeType\n",
      "ctrl    85\n",
      "aclr    74\n",
      "clat    74\n",
      "Name: count, dtype: int64\n",
      "Fitting model for kneetype: aclr\n"
     ]
    },
    {
     "name": "stderr",
     "output_type": "stream",
     "text": [
      "aclr latents: 100%|██████████| 512/512 [04:19<00:00,  1.98it/s]\n"
     ]
    },
    {
     "name": "stdout",
     "output_type": "stream",
     "text": [
      "Cosine similarity for aclr:  0.2541557645027448\n",
      "--- ACLR SUMMARY ---\n",
      "Converged: 512 / 512\n",
      "Failed: 0 / 512\n",
      "Log written to /dataNAS/people/anoopai/DESS_ACL_study/results/BScore_and_FC_metrics/mean_shape_recon/BO_model/shape_change_between_knees_raw_by_visit/fit_log_aclr.csv\n",
      "Fitting model for kneetype: clat\n"
     ]
    },
    {
     "name": "stderr",
     "output_type": "stream",
     "text": [
      "clat latents: 100%|██████████| 512/512 [05:04<00:00,  1.68it/s]\n"
     ]
    },
    {
     "name": "stdout",
     "output_type": "stream",
     "text": [
      "Cosine similarity for clat:  -0.030837180062404768\n",
      "--- CLAT SUMMARY ---\n",
      "Converged: 512 / 512\n",
      "Failed: 0 / 512\n",
      "Log written to /dataNAS/people/anoopai/DESS_ACL_study/results/BScore_and_FC_metrics/mean_shape_recon/BO_model/shape_change_between_knees_raw_by_visit/fit_log_clat.csv\n",
      "Fitting model for kneetype: ctrl\n"
     ]
    },
    {
     "name": "stderr",
     "output_type": "stream",
     "text": [
      "ctrl latents: 100%|██████████| 512/512 [06:13<00:00,  1.37it/s]"
     ]
    },
    {
     "name": "stdout",
     "output_type": "stream",
     "text": [
      "Cosine similarity for ctrl:  -0.093994685571398\n",
      "--- CTRL SUMMARY ---\n",
      "Converged: 512 / 512\n",
      "Failed: 0 / 512\n",
      "Log written to /dataNAS/people/anoopai/DESS_ACL_study/results/BScore_and_FC_metrics/mean_shape_recon/BO_model/shape_change_between_knees_raw_by_visit/fit_log_ctrl.csv\n"
     ]
    },
    {
     "name": "stderr",
     "output_type": "stream",
     "text": [
      "\n"
     ]
    }
   ],
   "source": [
    "import numpy as np\n",
    "import pandas as pd\n",
    "import statsmodels.formula.api as smf\n",
    "from tqdm import tqdm\n",
    "import matplotlib.pyplot as plt\n",
    "import warnings\n",
    "import os\n",
    "from scipy.spatial.distance import cosine\n",
    "\n",
    "data_path = '/dataNAS/people/anoopai/DESS_ACL_study/results/BScore_and_FC_metrics/mean_shape_recon/BO_model/shape_change_between_knees_raw_by_visit'\n",
    "latent_path = os.path.join(data_path, 'latents_subjects.npz')\n",
    "b_vector_path = b_vector_path = '/dataNAS/people/anoopai/KneePipeline/BSCORE_MODELS/NSM_Orig_BScore_Bone_Only_Jan_2025/bscore_vector.npy'\n",
    "\n",
    "# Load your OAI b-vector\n",
    "b_vector = np.load(b_vector_path)\n",
    "\n",
    "# ------ 1. Load data ------\n",
    "npz = np.load(latent_path, allow_pickle=True)\n",
    "subjects = npz['subjects']\n",
    "visits = npz['visits']\n",
    "knees = npz['knees']\n",
    "latents = npz['latents']  # shape (N, 512)\n",
    "\n",
    "visit_to_month = {1: 0.75, 2: 3, 3: 9, 4: 18, 5: 30}\n",
    "\n",
    "# ------ 2. Dataframe build ------\n",
    "df = pd.DataFrame({\n",
    "    \"Subject\": subjects.astype(str),\n",
    "    \"Visit\": visits,\n",
    "    \"Knee\": knees.astype(str),\n",
    "})\n",
    "latents = latents.squeeze()\n",
    "latent_colnames = [f\"latent_{i}\" for i in range(latents.shape[1])]\n",
    "latent_df = pd.DataFrame(latents, columns=latent_colnames)\n",
    "df = pd.concat([df.reset_index(drop=True), latent_df.reset_index(drop=True)], axis=1)\n",
    "\n",
    "df['Visit'] = df['Visit'].astype(int)\n",
    "df['Time'] = df['Visit'].map(visit_to_month)\n",
    "df['Subject_Knee'] = df['Subject'] + \"_\" + df['Knee']\n",
    "\n",
    "# ------ 3. Label Knee Types ------\n",
    "df_temp = pd.DataFrame({'Subject': subjects.astype(str), 'Knee': knees.astype(str)})\n",
    "df_counts = df_temp.groupby('Subject')['Knee'].unique()\n",
    "aclr_subjects = set(df_counts[df_counts.apply(lambda arr: (('aclr' in arr) and ('clat' in arr)))].index)\n",
    "control_subjects = set(df_counts[df_counts.apply(lambda arr: (len(arr)==1 and arr[0]=='ctrl'))].index)\n",
    "\n",
    "def get_knee_type(row):\n",
    "    if row['Subject'] in aclr_subjects:\n",
    "        if row['Knee'].lower() == 'aclr':\n",
    "            return 'aclr'\n",
    "        else:\n",
    "            return 'clat'\n",
    "    elif row['Subject'] in control_subjects:\n",
    "        return 'ctrl'\n",
    "    else:\n",
    "        return 'unknown'\n",
    "\n",
    "df['KneeType'] = df.apply(get_knee_type, axis=1)\n",
    "df = df[df['KneeType'] != 'unknown'].copy()\n",
    "\n",
    "# ------ 4. Calculate mean latent trajectory per knee type ------\n",
    "kneetypes = ['aclr', 'clat', 'ctrl']\n",
    "mean_response_dict = {}\n",
    "\n",
    "for kneetype in kneetypes:\n",
    "    print(f'Fitting model for kneetype: {kneetype}')\n",
    "    df_sub = df[df['KneeType'] == kneetype].copy()\n",
    "    mean_responses = np.full(latents.shape[1], np.nan)  # (512, )\n",
    "    converged_latents = []\n",
    "    failed_latents = []\n",
    "    log_details = []\n",
    "\n",
    "    for i in tqdm(range(latents.shape[1]), desc=f\"{kneetype} latents\"):\n",
    "        latent_name = f'latent_{i}'\n",
    "        try:\n",
    "            with warnings.catch_warnings(record=True) as w:\n",
    "                warnings.simplefilter(\"always\")\n",
    "                md = smf.mixedlm(f\"{latent_name} ~ Time\", df_sub, groups='Subject_Knee', re_formula=\"~Time\")\n",
    "                mdf = md.fit()\n",
    "\n",
    "                # Check if any warnings were raised during fit\n",
    "                warn_msgs = [str(ww.message) for ww in w]\n",
    "                if len(warn_msgs) > 0:\n",
    "                    status = 'warning'\n",
    "                else:\n",
    "                    status = 'converged'\n",
    "\n",
    "            mean_responses[i] = mdf.params['Time']\n",
    "            converged_latents.append(i)\n",
    "            log_details.append({'latent_index': i,\n",
    "                               'latent_name': latent_name,\n",
    "                               'status': status,\n",
    "                               'warning_msgs': \"|\".join(warn_msgs)})\n",
    "        except Exception as e:\n",
    "            failed_latents.append(i)\n",
    "            log_details.append({'latent_index': i,\n",
    "                               'latent_name': latent_name,\n",
    "                               'status': 'failed',\n",
    "                               'warning_msgs': str(e)})\n",
    "\n",
    "    mean_response_dict[kneetype] = mean_responses\n",
    "\n",
    "    similarity = 1 - cosine(b_vector, mean_response_dict[kneetype])\n",
    "    print(f\"Cosine similarity for {kneetype}: \", similarity)\n",
    "    \n",
    "    save_path = os.path.join(data_path, f'mean_PTOA_vector_{kneetype}.npy')\n",
    "    np.save(save_path, mean_responses)\n",
    "\n",
    "    # Save the log as a CSV for this knee type\n",
    "    log_df = pd.DataFrame(log_details)\n",
    "    log_csv_path = os.path.join(data_path, f'fit_log_{kneetype}.csv')\n",
    "    log_df.to_csv(log_csv_path, index=False)\n",
    "    print(f\"--- {kneetype.upper()} SUMMARY ---\")\n",
    "    print(f\"Converged: {len(converged_latents)} / {latents.shape[1]}\")\n",
    "    print(f\"Failed: {len(failed_latents)} / {latents.shape[1]}\")\n",
    "    print(f\"Log written to {log_csv_path}\")\n",
    "    if failed_latents:\n",
    "        print(\"Failed indices:\", failed_latents)\n"
   ]
  },
  {
   "cell_type": "markdown",
   "id": "2b290916",
   "metadata": {},
   "source": [
    "## B+C"
   ]
  },
  {
   "cell_type": "code",
   "execution_count": null,
   "id": "bdfec71d",
   "metadata": {},
   "outputs": [
    {
     "name": "stdout",
     "output_type": "stream",
     "text": [
      "KneeType\n",
      "ctrl    85\n",
      "aclr    74\n",
      "clat    74\n",
      "Name: count, dtype: int64\n",
      "Fitting model for kneetype: aclr\n"
     ]
    },
    {
     "name": "stderr",
     "output_type": "stream",
     "text": [
      "aclr latents: 100%|██████████| 512/512 [04:14<00:00,  2.01it/s]\n"
     ]
    },
    {
     "name": "stdout",
     "output_type": "stream",
     "text": [
      "Cosine similarity for aclr:  0.09099428408169186\n",
      "--- ACLR SUMMARY ---\n",
      "Converged: 512 / 512\n",
      "Failed: 0 / 512\n",
      "Log written to /dataNAS/people/anoopai/DESS_ACL_study/results/BScore_and_FC_metrics/mean_shape_recon/BC_model/shape_change_between_knees_raw_by_visit/fit_log_aclr.csv\n",
      "Fitting model for kneetype: clat\n"
     ]
    },
    {
     "name": "stderr",
     "output_type": "stream",
     "text": [
      "clat latents: 100%|██████████| 512/512 [05:35<00:00,  1.52it/s]\n"
     ]
    },
    {
     "name": "stdout",
     "output_type": "stream",
     "text": [
      "Cosine similarity for clat:  0.038511052231120724\n",
      "--- CLAT SUMMARY ---\n",
      "Converged: 512 / 512\n",
      "Failed: 0 / 512\n",
      "Log written to /dataNAS/people/anoopai/DESS_ACL_study/results/BScore_and_FC_metrics/mean_shape_recon/BC_model/shape_change_between_knees_raw_by_visit/fit_log_clat.csv\n",
      "Fitting model for kneetype: ctrl\n"
     ]
    },
    {
     "name": "stderr",
     "output_type": "stream",
     "text": [
      "ctrl latents: 100%|██████████| 512/512 [06:23<00:00,  1.34it/s]"
     ]
    },
    {
     "name": "stdout",
     "output_type": "stream",
     "text": [
      "Cosine similarity for ctrl:  -0.04128280054298261\n",
      "--- CTRL SUMMARY ---\n",
      "Converged: 512 / 512\n",
      "Failed: 0 / 512\n",
      "Log written to /dataNAS/people/anoopai/DESS_ACL_study/results/BScore_and_FC_metrics/mean_shape_recon/BC_model/shape_change_between_knees_raw_by_visit/fit_log_ctrl.csv\n"
     ]
    },
    {
     "name": "stderr",
     "output_type": "stream",
     "text": [
      "\n"
     ]
    }
   ],
   "source": [
    "import numpy as np\n",
    "import pandas as pd\n",
    "import statsmodels.formula.api as smf\n",
    "from tqdm import tqdm\n",
    "import matplotlib.pyplot as plt\n",
    "import warnings\n",
    "import os\n",
    "from scipy.spatial.distance import cosine\n",
    "\n",
    "data_path = '/dataNAS/people/anoopai/DESS_ACL_study/results/BScore_and_FC_metrics/mean_shape_recon/BC_model/shape_change_between_knees_raw_by_visit'\n",
    "latent_path = os.path.join(data_path, 'latents_subjects.npz')\n",
    "b_vector_path = '/dataNAS/people/anoopai/KneePipeline/BSCORE_MODELS/NSM_Orig_BScore_Nov_2024/bscore_vector.npy'\n",
    "\n",
    "# Load your OAI b-vector\n",
    "b_vector = np.load(b_vector_path)\n",
    "\n",
    "# ------ 1. Load data ------\n",
    "npz = np.load(latent_path, allow_pickle=True)\n",
    "subjects = npz['subjects']\n",
    "visits = npz['visits']\n",
    "knees = npz['knees']\n",
    "latents = npz['latents']  # shape (N, 512)\n",
    "\n",
    "visit_to_month = {1: 0.75, 2: 3, 3: 9, 4: 18, 5: 30}\n",
    "\n",
    "# ------ 2. Dataframe build ------\n",
    "df = pd.DataFrame({\n",
    "    \"Subject\": subjects.astype(str),\n",
    "    \"Visit\": visits,\n",
    "    \"Knee\": knees.astype(str),\n",
    "})\n",
    "latents = latents.squeeze()\n",
    "latent_colnames = [f\"latent_{i}\" for i in range(latents.shape[1])]\n",
    "latent_df = pd.DataFrame(latents, columns=latent_colnames)\n",
    "df = pd.concat([df.reset_index(drop=True), latent_df.reset_index(drop=True)], axis=1)\n",
    "\n",
    "df['Visit'] = df['Visit'].astype(int)\n",
    "df['Time'] = df['Visit'].map(visit_to_month)\n",
    "df['Subject_Knee'] = df['Subject'] + \"_\" + df['Knee']\n",
    "\n",
    "# ------ 3. Label Knee Types ------\n",
    "df_temp = pd.DataFrame({'Subject': subjects.astype(str), 'Knee': knees.astype(str)})\n",
    "df_counts = df_temp.groupby('Subject')['Knee'].unique()\n",
    "aclr_subjects = set(df_counts[df_counts.apply(lambda arr: (('aclr' in arr) and ('clat' in arr)))].index)\n",
    "control_subjects = set(df_counts[df_counts.apply(lambda arr: (len(arr)==1 and arr[0]=='ctrl'))].index)\n",
    "\n",
    "def get_knee_type(row):\n",
    "    if row['Subject'] in aclr_subjects:\n",
    "        if row['Knee'].lower() == 'aclr':\n",
    "            return 'aclr'\n",
    "        else:\n",
    "            return 'clat'\n",
    "    elif row['Subject'] in control_subjects:\n",
    "        return 'ctrl'\n",
    "    else:\n",
    "        return 'unknown'\n",
    "\n",
    "df['KneeType'] = df.apply(get_knee_type, axis=1)\n",
    "df = df[df['KneeType'] != 'unknown'].copy()\n",
    "\n",
    "# ------ 4. Calculate mean latent trajectory per knee type ------\n",
    "kneetypes = ['aclr', 'clat', 'ctrl']\n",
    "mean_response_dict = {}\n",
    "\n",
    "for kneetype in kneetypes:\n",
    "    print(f'Fitting model for kneetype: {kneetype}')\n",
    "    df_sub = df[df['KneeType'] == kneetype].copy()\n",
    "    mean_responses = np.full(latents.shape[1], np.nan)  # (512, )\n",
    "    converged_latents = []\n",
    "    failed_latents = []\n",
    "    log_details = []\n",
    "\n",
    "    for i in tqdm(range(latents.shape[1]), desc=f\"{kneetype} latents\"):\n",
    "        latent_name = f'latent_{i}'\n",
    "        try:\n",
    "            with warnings.catch_warnings(record=True) as w:\n",
    "                warnings.simplefilter(\"always\")\n",
    "                md = smf.mixedlm(f\"{latent_name} ~ Time\", df_sub, groups='Subject_Knee', re_formula=\"~Time\")\n",
    "                mdf = md.fit()\n",
    "\n",
    "                # Check if any warnings were raised during fit\n",
    "                warn_msgs = [str(ww.message) for ww in w]\n",
    "                if len(warn_msgs) > 0:\n",
    "                    status = 'warning'\n",
    "                else:\n",
    "                    status = 'converged'\n",
    "\n",
    "            mean_responses[i] = mdf.params['Time']\n",
    "            converged_latents.append(i)\n",
    "            log_details.append({'latent_index': i,\n",
    "                               'latent_name': latent_name,\n",
    "                               'status': status,\n",
    "                               'warning_msgs': \"|\".join(warn_msgs)})\n",
    "        except Exception as e:\n",
    "            failed_latents.append(i)\n",
    "            log_details.append({'latent_index': i,\n",
    "                               'latent_name': latent_name,\n",
    "                               'status': 'failed',\n",
    "                               'warning_msgs': str(e)})\n",
    "\n",
    "    mean_response_dict[kneetype] = mean_responses\n",
    "\n",
    "    similarity = 1 - cosine(b_vector, mean_response_dict[kneetype])\n",
    "    print(f\"Cosine similarity for {kneetype}: \", similarity)\n",
    "    \n",
    "    save_path = os.path.join(data_path, f'mean_PTOA_vector_{kneetype}.npy')\n",
    "    np.save(save_path, mean_responses)\n",
    "\n",
    "    # Save the log as a CSV for this knee type\n",
    "    log_df = pd.DataFrame(log_details)\n",
    "    log_csv_path = os.path.join(data_path, f'fit_log_{kneetype}.csv')\n",
    "    log_df.to_csv(log_csv_path, index=False)\n",
    "    print(f\"--- {kneetype.upper()} SUMMARY ---\")\n",
    "    print(f\"Converged: {len(converged_latents)} / {latents.shape[1]}\")\n",
    "    print(f\"Failed: {len(failed_latents)} / {latents.shape[1]}\")\n",
    "    print(f\"Log written to {log_csv_path}\")\n",
    "    if failed_latents:\n",
    "        print(\"Failed indices:\", failed_latents)\n"
   ]
  }
 ],
 "metadata": {
  "kernelspec": {
   "display_name": "knee_pipeline",
   "language": "python",
   "name": "python3"
  },
  "language_info": {
   "codemirror_mode": {
    "name": "ipython",
    "version": 3
   },
   "file_extension": ".py",
   "mimetype": "text/x-python",
   "name": "python",
   "nbconvert_exporter": "python",
   "pygments_lexer": "ipython3",
   "version": "3.8.20"
  }
 },
 "nbformat": 4,
 "nbformat_minor": 5
}
