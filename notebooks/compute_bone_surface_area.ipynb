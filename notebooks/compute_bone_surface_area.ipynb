{
 "cells": [
  {
   "cell_type": "code",
   "execution_count": 1,
   "metadata": {
    "vscode": {
     "languageId": "shellscript"
    }
   },
   "outputs": [
    {
     "name": "stdout",
     "output_type": "stream",
     "text": [
      "[KeOps] Compiling cuda jit compiler engine ... \n",
      "[KeOps] Warning : There were warnings or errors :\n",
      "/usr/bin/ld: cannot find -lnvrtc: No such file or directory\n",
      "collect2: error: ld returned 1 exit status\n",
      "\n",
      "OK\n",
      "[pyKeOps] Compiling nvrtc binder for python ... \n",
      "[KeOps] Warning : There were warnings or errors :\n",
      "/usr/bin/ld: cannot find -lnvrtc: No such file or directory\n",
      "collect2: error: ld returned 1 exit status\n",
      "\n",
      "OK\n"
     ]
    }
   ],
   "source": [
    "import os\n",
    "import argparse\n",
    "import numpy as np\n",
    "from itkwidgets import view\n",
    "import SimpleITK as sitk\n",
    "import pymskt as mskt\n",
    "import matplotlib.pyplot as plt\n",
    "import matplotlib.colors as mcolors\n",
    "import json\n",
    "import pandas as pd\n",
    "import datetime\n",
    "import time\n",
    "import torch\n",
    "from pymskt.mesh.meshTransform import get_linear_transform_matrix\n",
    "import sys\n",
    "import gc\n",
    "import pyvista as pv\n",
    "import vtk\n",
    "import ast\n",
    "import pickle\n",
    "from NSM.models.triplanar import TriplanarDecoder\n",
    "from NSM.reconstruct import reconstruct_mesh\n",
    "from NSM.mesh.interpolate import interpolate_points, interpolate_mesh, interpolate_common\n",
    "from NSM.mesh import create_mesh\n",
    "from pymskt.mesh import BoneMesh, CartilageMesh, meshTools\n",
    "sys.path.append('/dataNAS/people/kenziew/projects/knee_pipeline/DEPENDENCIES/nsosim')\n",
    "from nsosim.nsm_fitting import apply_transform, undo_transform\n",
    "from nsosim.utils import load_model\n",
    "from scipy.spatial import cKDTree\n",
    "# from vtk.util.numpy_support import numpy_to_vtk"
   ]
  },
  {
   "cell_type": "code",
   "execution_count": 2,
   "metadata": {
    "vscode": {
     "languageId": "shellscript"
    }
   },
   "outputs": [],
   "source": [
    "def masked_healthy_mesh(\n",
    "    mesh,\n",
    "    threshold,\n",
    "    percent_scalar='percent_people_with_cartilage', # Percent of people with cartilage at each point\n",
    "    percent_out='percent_people_with_cartilage_masked',\n",
    "    label_in='most_likely_label', # Subregion names\n",
    "    label_out= 'most_likely_label_masked',  # this is the updated version \"label in\"\n",
    "    prob_in='most_likely_prob', # what update_sub_labels expects\n",
    "    prob_out= 'most_likely_prob_masked',\n",
    "    keep_only= ['percent_people_with_cartilage', ],  # None = keep everything\n",
    "    subset=False # True -> drop < thr points via threshold\n",
    "):\n",
    "    \n",
    "    \"\"\"\n",
    "    Make a thresholded copy of `mesh` where:\n",
    "      - labels outside the mask are set to 0\n",
    "      - probs outside the mask are set to 0\n",
    "      - percent scalar also masked (0 outside)\n",
    "    Threshold can be fraction (0.8) or percent (80).\n",
    "    If subset=True, returns a mesh containing only vertices/cells >= threshold.\n",
    "    \"\"\"\n",
    "    thr = threshold / 100.0 if threshold > 1.0 else float(threshold)\n",
    "\n",
    "    mesh2 = mesh.copy(deep=True)\n",
    "    pct = np.asarray(mesh2.point_data[percent_scalar], dtype=float)\n",
    "    mask = pct >= thr\n",
    "\n",
    "    labels = np.asarray(mesh2.point_data[label_in], dtype=np.int32)\n",
    "    probs  = np.asarray(mesh2.point_data[prob_in], dtype=float)\n",
    "\n",
    "    # Masked outputs\n",
    "    mesh2.point_data[label_out]   = np.where(mask, labels, 0).astype(np.int32)\n",
    "    mesh2.point_data[prob_out]    = np.where(mask, probs,  0).astype(np.float32)\n",
    "    mesh2.point_data[percent_out] = np.where(mask, pct,    0).astype(np.float32)\n",
    "\n",
    "    # Optionally reduce to only >= threshold vertices/cells\n",
    "    if subset:\n",
    "        try:\n",
    "            # Use the percent scalar for thresholding (point preference)\n",
    "            mesh2 = mesh2.threshold(thr, scalars=percent_scalar, preference='point')\n",
    "        except Exception:\n",
    "            # Fallback: if threshold fails (e.g., mesh type), just keep masked arrays\n",
    "            pass\n",
    "\n",
    "    # Trim extra arrays if requested\n",
    "    if keep_only is not None:\n",
    "        keep = set(keep_only) | {label_out, prob_out, percent_out, percent_scalar}\n",
    "        data = {k: mesh2.point_data[k].copy() for k in list(mesh2.point_data.keys()) if k in keep}\n",
    "        # mesh2.point_data.clear()\n",
    "        for k, v in data.items():\n",
    "            mesh2.point_data[k] = v\n",
    "\n",
    "    return mesh2"
   ]
  },
  {
   "cell_type": "markdown",
   "metadata": {},
   "source": [
    "# Read in healthy NSM models"
   ]
  },
  {
   "cell_type": "code",
   "execution_count": 3,
   "metadata": {
    "vscode": {
     "languageId": "shellscript"
    }
   },
   "outputs": [],
   "source": [
    "main_path = f'/dataNAS/people/anoopai/KneePipeline/mean_data/mean_cartSubregions_OAI'\n",
    "final_mesh = f'mean_healthy_femur_505MOAKS0.vtk'\n",
    "mean_mesh_file_name = os.path.join(main_path, final_mesh)\n",
    "femur_mesh = BoneMesh(mean_mesh_file_name)\n",
    "\n",
    "# scalars= femur_mesh.point_data.keys()\n",
    "\n",
    "# scalar_name = 'most_likely_prob'\n",
    "\n",
    "# dilated_mesh = femur_mesh.copy()\n",
    "# dilated_mesh.point_data[f'{scalar_name}_dilated'] = femur_mesh.point_data[scalar_name]  # Replace 'my_scalar' with your scalar's name\n",
    "\n",
    "# # Perform a smoothing operation to \"dilate\"\n",
    "# dilated_mesh = dilated_mesh.smooth(n_iter=100)"
   ]
  },
  {
   "cell_type": "code",
   "execution_count": 19,
   "metadata": {
    "vscode": {
     "languageId": "shellscript"
    }
   },
   "outputs": [],
   "source": [
    "femur_mesh_threshold= masked_healthy_mesh(\n",
    "    mesh= femur_mesh,\n",
    "    threshold = 90,\n",
    "    )"
   ]
  },
  {
   "cell_type": "code",
   "execution_count": 20,
   "metadata": {
    "vscode": {
     "languageId": "shellscript"
    }
   },
   "outputs": [
    {
     "data": {
      "application/vnd.jupyter.widget-view+json": {
       "model_id": "93f5887b89814ee8873f1eb25eada721",
       "version_major": 2,
       "version_minor": 0
      },
      "text/plain": [
       "Viewer(geometries=[{'vtkClass': 'vtkPolyData', 'points': {'vtkClass': 'vtkPoints', 'name': '_points', 'numberO…"
      ]
     },
     "metadata": {},
     "output_type": "display_data"
    }
   ],
   "source": [
    "view(geometries=[femur_mesh_threshold])"
   ]
  },
  {
   "cell_type": "code",
   "execution_count": 29,
   "metadata": {
    "vscode": {
     "languageId": "shellscript"
    }
   },
   "outputs": [
    {
     "name": "stdout",
     "output_type": "stream",
     "text": [
      "Surface area of region 0: 1.4971924375270356\n",
      "Surface area of region 11: 0.3894294712196732\n",
      "Surface area of region 12: 0.09654563015450959\n",
      "Surface area of region 13: 0.10421438401247252\n",
      "Surface area of region 14: 0.17876906430755318\n",
      "Surface area of region 15: 0.17236678432503916\n"
     ]
    }
   ],
   "source": [
    "import pyvista as pv\n",
    "\n",
    "# Assuming femur_mesh is already defined and loaded with scalars\n",
    "femur_mesh = BoneMesh(mean_mesh_file_name)\n",
    "\n",
    "# Get unique regions from the scalar field (replace 'region_scalar' with your actual scalar name)\n",
    "region_scalar_name = 'most_likely_label'  # Change this to your scalar name\n",
    "unique_regions = femur_mesh.point_data[region_scalar_name]\n",
    "\n",
    "# Get unique region values\n",
    "regions_of_interest = np.unique(np.array(unique_regions))\n",
    "\n",
    "area_results = {}\n",
    "\n",
    "# Iterate over each unique region\n",
    "for region in regions_of_interest:\n",
    "\n",
    "    # Create a copy of the mesh\n",
    "    current_mesh = femur_mesh.copy()\n",
    "    \n",
    "    # Create a boolean mask to keep only cells that belong to the current region\n",
    "    mask = current_mesh.point_data[region_scalar_name] == region\n",
    "    \n",
    "    # Delete all points/cells that do not belong to this region\n",
    "    current_mesh = current_mesh.extract_surface().threshold(0) # Extracts surface\n",
    "    \n",
    "    # Use the boolean mask to keep only the cells that belong to the current region\n",
    "    current_mesh = current_mesh.extract_cells(mask)\n",
    "    \n",
    "    # Compute the surface area of the remaining mesh\n",
    "    surface_area = current_mesh.area\n",
    "    \n",
    "    # Store the results\n",
    "    area_results[region] = surface_area\n",
    "\n",
    "# Print out the surface area results for each region\n",
    "for region, area in area_results.items():\n",
    "    print(f\"Surface area of region {region}: {area}\")"
   ]
  }
 ],
 "metadata": {
  "kernelspec": {
   "display_name": "knee_pipeline",
   "language": "python",
   "name": "python3"
  },
  "language_info": {
   "codemirror_mode": {
    "name": "ipython",
    "version": 3
   },
   "file_extension": ".py",
   "mimetype": "text/x-python",
   "name": "python",
   "nbconvert_exporter": "python",
   "pygments_lexer": "ipython3",
   "version": "3.8.20"
  }
 },
 "nbformat": 4,
 "nbformat_minor": 2
}
