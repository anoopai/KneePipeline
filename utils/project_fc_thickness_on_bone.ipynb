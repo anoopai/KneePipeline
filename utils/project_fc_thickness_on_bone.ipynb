{
 "cells": [
  {
   "cell_type": "code",
   "execution_count": 4,
   "id": "049505b5",
   "metadata": {},
   "outputs": [],
   "source": [
    "import os\n",
    "from pymskt.mesh import Mesh, BoneMesh, CartilageMesh\n",
    "    \n",
    "import os\n",
    "from pymskt.mesh import Mesh\n",
    "import SimpleITK as sitk\n",
    "import numpy as np\n",
    "\n",
    "from pymskt.image import read_nrrd\n",
    "from pymskt.mesh.meshTransform import SitkVtkTransformer\n",
    "from pymskt.mesh.meshTools import ProbeVtkImageDataAlongLine, get_cartilage_properties_at_points\n",
    "from pymskt.mesh.meshTools import get_surface_normals, n2l, l2n\n",
    "from pymskt.mesh.utils import is_hit, get_intersect, get_surface_normals, get_obb_surface"
   ]
  },
  {
   "cell_type": "code",
   "execution_count": null,
   "id": "d7c07eed",
   "metadata": {},
   "outputs": [
    {
     "name": "stdout",
     "output_type": "stream",
     "text": [
      "INTERSECTION IS:  2\n"
     ]
    }
   ],
   "source": [
    "bone_mesh_path = '/dataNAS/people/anoopai/DESS_ACL_study/results/BScore_and_FC_metrics/mean_shape_recon/BC_model/interpolation/ctrl_Visit-1_Bscore0.16_bone.vtk'\n",
    "cart_mesh_path = '/dataNAS/people/anoopai/DESS_ACL_study/results/BScore_and_FC_metrics/mean_shape_recon/BC_model/interpolation/ctrl_Visit-1_Bscore0.16_cart.vtk'\n",
    "\n",
    "bone_mesh= Mesh(bone_mesh_path)\n",
    "cart_mesh = Mesh(cart_mesh_path)\n",
    "\n",
    "# IMPORTANT: The meshes should be \"unnormailised\" o patient size. Rough factor for scale-up is 45\n",
    "bone_mesh.point_coords = bone_mesh.point_coords * 45\n",
    "cart_mesh.point_coords = cart_mesh.point_coords * 45\n",
    "\n",
    "# setup the probe that we are using to get data from the T2 file \n",
    "line_resolution = 500   # number of points along the line that the T2 data is sampled at\n",
    "no_thickness_filler = 0.0              # if no data is found, what value to fill the data with\n",
    "ray_cast_length= 20          # how far to extend the ray from the surface (using negative to go inwards/towards the other side)\n",
    "percent_ray_length_opposite_direction = 0.025  # extend the other way a % of the line to make sure get both edges. 1.0 = 100%|\n",
    "n_intersections = 2  # how many intersections to expect. If 2, then we expect to find two points on the ray that intersect the cartilage surface.\n",
    "\n",
    "thicknesses = np.zeros(bone_mesh.GetNumberOfPoints())\n",
    "\n",
    "node_data = get_cartilage_properties_at_points(\n",
    "    bone_mesh,\n",
    "    cart_mesh,\n",
    "    t2_vtk_image=None,\n",
    "    seg_vtk_image=None,\n",
    "    ray_cast_length=ray_cast_length,\n",
    "    percent_ray_length_opposite_direction=percent_ray_length_opposite_direction,\n",
    ")\n",
    "thicknesses += node_data\n",
    "\n",
    "# Assign the thickness scalars to the bone mesh surface.\n",
    "bone_mesh.point_data[\"thickness (mm)\"] = thicknesses\n",
    "bone_mesh.save_mesh(bone_mesh_path)"
   ]
  },
  {
   "cell_type": "code",
   "execution_count": 12,
   "id": "f2feab59",
   "metadata": {},
   "outputs": [
    {
     "data": {
      "text/plain": [
       "array([0.00000000e+00, 1.48324575e-06, 4.03695758e-05, ...,\n",
       "       2.80267087e-01, 3.03454380e-01, 3.35764091e-01])"
      ]
     },
     "execution_count": 12,
     "metadata": {},
     "output_type": "execute_result"
    }
   ],
   "source": [
    "np.unique(node_data)"
   ]
  }
 ],
 "metadata": {
  "kernelspec": {
   "display_name": "knee_pipeline",
   "language": "python",
   "name": "python3"
  },
  "language_info": {
   "codemirror_mode": {
    "name": "ipython",
    "version": 3
   },
   "file_extension": ".py",
   "mimetype": "text/x-python",
   "name": "python",
   "nbconvert_exporter": "python",
   "pygments_lexer": "ipython3",
   "version": "3.8.20"
  }
 },
 "nbformat": 4,
 "nbformat_minor": 5
}
