{
 "cells": [
  {
   "cell_type": "code",
   "execution_count": 1,
   "metadata": {},
   "outputs": [],
   "source": [
    "%load_ext autoreload\n",
    "%autoreload 2\n",
    "import os\n",
    "\n",
    "from pymskt.mesh import get_icp_transform, cpd_register, non_rigidly_register\n",
    "from pymskt import mesh\n",
    "from pymskt.mesh.meshTools import smooth_scalars_from_second_mesh_onto_base, transfer_mesh_scalars_get_weighted_average_n_closest"
   ]
  },
  {
   "cell_type": "code",
   "execution_count": 2,
   "metadata": {},
   "outputs": [],
   "source": [
    "dir_path = '/dataNAS/people/anoopai/KneePipeline/data'\n",
    "target_path = '/dataNAS/people/anoopai/KneePipeline/MeanBone_mesh_B-only.vtk'\n",
    "source_path = '/dataNAS/people/anoopai/KneePipeline/data/10-P/VISIT-1/aclr/results_nsm/femur_mesh_NSM_orig.vtk'"
   ]
  },
  {
   "cell_type": "code",
   "execution_count": null,
   "metadata": {},
   "outputs": [
    {
     "name": "stdout",
     "output_type": "stream",
     "text": [
      "Starting Focusr\n",
      "Starting ICP\n"
     ]
    }
   ],
   "source": [
    "source = mesh.Mesh(source_path)\n",
    "target = mesh.Mesh(target_path)\n",
    "\n",
    "# icp = get_icp_transform(source, target, max_n_iter=1000, n_landmarks=1000, reg_mode=\"similarity\")\n",
    "\n",
    "# reg_mesh, reg_params= cpd_register(source, target, non_rigid=True)\n",
    "print(\"Registering\")\n",
    "reg_mesh, reg_params= non_rigidly_register(source, target)\n",
    "reg_mesh_scalars_mesh= transfer_mesh_scalars_get_weighted_average_n_closest(reg_mesh, source, return_mesh=True)\n",
    "save_path= '/dataNAS/people/anoopai/KneePipeline/data/10-P/VISIT-1/aclr/results_nsm/femur_mesh_NSM_orig_reg_scalars.vtk'\n",
    "reg_mesh_scalars_mesh.save_mesh(save_path)\n",
    "# reg_mesh_scalars = smooth_scalars_from_second_mesh_onto_base(base_mesh= reg_mesh, second_mesh = source)\n"
   ]
  },
  {
   "cell_type": "code",
   "execution_count": null,
   "metadata": {},
   "outputs": [],
   "source": []
  }
 ],
 "metadata": {
  "kernelspec": {
   "display_name": "knee_pipeline",
   "language": "python",
   "name": "python3"
  },
  "language_info": {
   "codemirror_mode": {
    "name": "ipython",
    "version": 3
   },
   "file_extension": ".py",
   "mimetype": "text/x-python",
   "name": "python",
   "nbconvert_exporter": "python",
   "pygments_lexer": "ipython3",
   "version": "3.8.20"
  }
 },
 "nbformat": 4,
 "nbformat_minor": 2
}
