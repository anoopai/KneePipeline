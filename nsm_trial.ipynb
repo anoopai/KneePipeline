{
 "cells": [
  {
   "cell_type": "code",
   "execution_count": 1,
   "id": "71fcbddd",
   "metadata": {},
   "outputs": [],
   "source": [
    "import SimpleITK as sitk"
   ]
  },
  {
   "cell_type": "code",
   "execution_count": 7,
   "id": "01b10276",
   "metadata": {},
   "outputs": [],
   "source": [
    "path ='/dataNAS/people/anoopai/DESS_ACL_study/data_correction/2-C/VISIT-1/ctrl/results_nsm/qdess_all-labels.nrrd'\n",
    "path2 = '/dataNAS/people/anoopai/DESS_ACL_study/data/2-C/VISIT-2/ctrl/results_nsm/qdess_all-labels.nrrd'\n"
   ]
  },
  {
   "cell_type": "code",
   "execution_count": null,
   "id": "6a47557a",
   "metadata": {},
   "outputs": [
    {
     "name": "stdout",
     "output_type": "stream",
     "text": [
      "Image size (SimpleITK): (512, 512, 80)\n",
      "Image shape (NumPy): (80, 512, 512)\n",
      "Is the image empty? False\n",
      "Image means and stats (if not empty):\n",
      "Mean value: 1.298175859451294\n",
      "Min value: 0\n",
      "Max value: 11\n"
     ]
    }
   ],
   "source": [
    "import SimpleITK as sitk\n",
    "import numpy as np\n",
    "\n",
    "def load_and_check_sitk_image(file_path):\n",
    "    # Load the image using SimpleITK\n",
    "    try:\n",
    "        sitk_image = sitk.ReadImage(file_path)\n",
    "    except Exception as e:\n",
    "        print(f\"Error loading image: {e}\")\n",
    "        return\n",
    "\n",
    "    # Convert the image to a NumPy array\n",
    "    image_array = sitk.GetArrayFromImage(sitk_image)\n",
    "\n",
    "    # Check the size of the image\n",
    "    image_size = sitk_image.GetSize()\n",
    "    image_shape = image_array.shape\n",
    "\n",
    "    # Print some information about the image\n",
    "    print(f\"Image size (SimpleITK): {image_size}\")\n",
    "    print(f\"Image shape (NumPy): {image_shape}\")\n",
    "    print(\"Is the image empty?\", image_array.size == 0)\n",
    "    print(\"Image means and stats (if not empty):\")\n",
    "    print(\"dtype:\", image_array.dtype)\n",
    "    \n",
    "    if image_array.size > 0:\n",
    "        print(f\"Mean value: {np.mean(image_array)}\")\n",
    "        print(f\"Min value: {np.min(image_array)}\")\n",
    "        print(f\"Max value: {np.max(image_array)}\")\n",
    "    else:\n",
    "        print(\"No data to compute statistics.\")\n",
    "\n",
    "if __name__ == \"__main__\":\n",
    "    load_and_check_sitk_image(path)"
   ]
  },
  {
   "cell_type": "code",
   "execution_count": 8,
   "id": "54004bb3",
   "metadata": {},
   "outputs": [
    {
     "name": "stdout",
     "output_type": "stream",
     "text": [
      "Image size (SimpleITK): (512, 512, 80)\n",
      "Image shape (NumPy): (80, 512, 512)\n",
      "Is the image empty? False\n",
      "Image means and stats (if not empty):\n",
      "Mean value: 1.1251799583435058\n",
      "Min value: 0\n",
      "Max value: 9\n"
     ]
    }
   ],
   "source": [
    "import SimpleITK as sitk\n",
    "import numpy as np\n",
    "\n",
    "def load_and_check_sitk_image(file_path):\n",
    "    # Load the image using SimpleITK\n",
    "    try:\n",
    "        sitk_image = sitk.ReadImage(file_path)\n",
    "    except Exception as e:\n",
    "        print(f\"Error loading image: {e}\")\n",
    "        return\n",
    "\n",
    "    # Convert the image to a NumPy array\n",
    "    image_array = sitk.GetArrayFromImage(sitk_image)\n",
    "\n",
    "    # Check the size of the image\n",
    "    image_size = sitk_image.GetSize()\n",
    "    image_shape = image_array.shape\n",
    "\n",
    "    # Print some information about the image\n",
    "    print(f\"Image size (SimpleITK): {image_size}\")\n",
    "    print(f\"Image shape (NumPy): {image_shape}\")\n",
    "    print(\"Is the image empty?\", image_array.size == 0)\n",
    "    print(\"Image means and stats (if not empty):\")\n",
    "    \n",
    "    if image_array.size > 0:\n",
    "        print(f\"Mean value: {np.mean(image_array)}\")\n",
    "        print(f\"Min value: {np.min(image_array)}\")\n",
    "        print(f\"Max value: {np.max(image_array)}\")\n",
    "    else:\n",
    "        print(\"No data to compute statistics.\")\n",
    "\n",
    "if __name__ == \"__main__\":\n",
    "    load_and_check_sitk_image(path2)"
   ]
  }
 ],
 "metadata": {
  "kernelspec": {
   "display_name": "Python 3",
   "language": "python",
   "name": "python3"
  },
  "language_info": {
   "codemirror_mode": {
    "name": "ipython",
    "version": 3
   },
   "file_extension": ".py",
   "mimetype": "text/x-python",
   "name": "python",
   "nbconvert_exporter": "python",
   "pygments_lexer": "ipython3",
   "version": "3.8.20"
  }
 },
 "nbformat": 4,
 "nbformat_minor": 5
}
